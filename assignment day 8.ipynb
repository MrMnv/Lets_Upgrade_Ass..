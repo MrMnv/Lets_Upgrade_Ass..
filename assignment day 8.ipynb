{
 "cells": [
  {
   "cell_type": "markdown",
   "metadata": {},
   "source": [
    "# Assignment 1"
   ]
  },
  {
   "cell_type": "code",
   "execution_count": 2,
   "metadata": {},
   "outputs": [
    {
     "name": "stdout",
     "output_type": "stream",
     "text": [
      "{21: 'FTP', 22: 'SSH', 23: 'Telnet', 80: 'HTTP'}\n",
      "{'FTP': 21, 'SSH': 22, 'Telnet': 23, 'HTTP': 80}\n"
     ]
    }
   ],
   "source": [
    "port1 = {21 : \"FTP\", 22 : \"SSH\", 23 : \"Telnet\", 80 :\"HTTP\"} \n",
    "\n",
    "print(str(port1)) \n",
    "\n",
    "keys, values = zip(*port1.items()) \n",
    "\n",
    "port2 = dict(zip(values, keys))\n",
    "print(port2)"
   ]
  },
  {
   "cell_type": "markdown",
   "metadata": {},
   "source": [
    "# Assignment 2"
   ]
  },
  {
   "cell_type": "code",
   "execution_count": 3,
   "metadata": {},
   "outputs": [
    {
     "name": "stdout",
     "output_type": "stream",
     "text": [
      "[3, 7, 11, 9]\n"
     ]
    }
   ],
   "source": [
    "#  sum of tuple \n",
    "list1 = [(1,2),(3,4),(5,6),(4,5)]\n",
    "list2 = []\n",
    "\n",
    "a = list1[0]\n",
    "b = a[0] + a[1]\n",
    " \n",
    "for i in range(len(list1)):\n",
    "     j = list1[i]\n",
    "     k = j[0] + j[1]\n",
    "     list2.append(k)\n",
    "print(list2)"
   ]
  },
  {
   "cell_type": "markdown",
   "metadata": {},
   "source": [
    "# Assignment 3"
   ]
  },
  {
   "cell_type": "code",
   "execution_count": 4,
   "metadata": {},
   "outputs": [
    {
     "name": "stdout",
     "output_type": "stream",
     "text": [
      "[1, 2, 3, 1, 2, 'a', 'hit', 'list']\n"
     ]
    }
   ],
   "source": [
    "lt = [(1,2,3),[1,2],['a','hit','list']]\n",
    "\n",
    "out = [item for t in lt for item in t] \n",
    "\n",
    "print(out)"
   ]
  },
  {
   "cell_type": "code",
   "execution_count": null,
   "metadata": {},
   "outputs": [],
   "source": []
  }
 ],
 "metadata": {
  "kernelspec": {
   "display_name": "Python 3",
   "language": "python",
   "name": "python3"
  },
  "language_info": {
   "codemirror_mode": {
    "name": "ipython",
    "version": 3
   },
   "file_extension": ".py",
   "mimetype": "text/x-python",
   "name": "python",
   "nbconvert_exporter": "python",
   "pygments_lexer": "ipython3",
   "version": "3.7.6"
  }
 },
 "nbformat": 4,
 "nbformat_minor": 4
}
