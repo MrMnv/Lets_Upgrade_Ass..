{
 "cells": [
  {
   "cell_type": "code",
   "execution_count": 18,
   "metadata": {},
   "outputs": [
    {
     "name": "stdout",
     "output_type": "stream",
     "text": [
      "Input Any Number  =  10\n",
      "1 --> 1\n",
      "2 --> 3\n",
      "3 --> 6\n",
      "4 --> 10\n",
      "5 --> 15\n",
      "6 --> 21\n",
      "7 --> 28\n",
      "8 --> 36\n",
      "9 --> 45\n",
      "10 --> 55\n",
      "Sum of Numbers Is  55\n"
     ]
    }
   ],
   "source": [
    "n1 = int(input(\"Input Any Number  =  \"))\n",
    "\n",
    "sum = 0\n",
    "n = 1\n",
    "\n",
    "while(n <= n1):\n",
    "    sum = sum + n\n",
    "    print(n,\"-->\",sum)\n",
    "    n = n + 1;\n",
    "        \n",
    "print(\"Sum of Numbers Is \",sum)"
   ]
  },
  {
   "cell_type": "code",
   "execution_count": 26,
   "metadata": {},
   "outputs": [
    {
     "name": "stdout",
     "output_type": "stream",
     "text": [
      "Enter Any number = 7\n",
      "7 is Prime Number\n"
     ]
    }
   ],
   "source": [
    "n1 = int(input(\"Enter Any number = \"))\n",
    "if (n1 > 1):\n",
    "    for i  in range(2,n1):\n",
    "        if(n1 % i ) == 0:\n",
    "            print(n1,\"is not Prime Number\")\n",
    "            break;\n",
    "    else:\n",
    "        print(n1,\"is Prime Number\")\n",
    "else:\n",
    "        print(n1,\"is not Prime Number\")\n",
    "            "
   ]
  },
  {
   "cell_type": "code",
   "execution_count": null,
   "metadata": {},
   "outputs": [],
   "source": []
  }
 ],
 "metadata": {
  "kernelspec": {
   "display_name": "Python 3",
   "language": "python",
   "name": "python3"
  },
  "language_info": {
   "codemirror_mode": {
    "name": "ipython",
    "version": 3
   },
   "file_extension": ".py",
   "mimetype": "text/x-python",
   "name": "python",
   "nbconvert_exporter": "python",
   "pygments_lexer": "ipython3",
   "version": "3.7.6"
  }
 },
 "nbformat": 4,
 "nbformat_minor": 4
}
